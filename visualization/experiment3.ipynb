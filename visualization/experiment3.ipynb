{
 "cells": [
  {
   "cell_type": "code",
   "id": "initial_id",
   "metadata": {
    "collapsed": true,
    "ExecuteTime": {
     "end_time": "2024-10-10T20:24:18.286414Z",
     "start_time": "2024-10-10T20:24:18.284862Z"
    }
   },
   "source": [
    "import pandas as pd\n",
    "from IPython.display import display, HTML\n",
    "import matplotlib.pyplot as plt\n",
    "import seaborn as sns\n",
    "import pandas as pd\n",
    "import re"
   ],
   "outputs": [],
   "execution_count": 1
  },
  {
   "metadata": {
    "ExecuteTime": {
     "end_time": "2024-08-28T15:51:47.884212Z",
     "start_time": "2024-08-28T15:51:47.879038Z"
    }
   },
   "cell_type": "code",
   "source": [
    "def parse_describe_result(describe_str):\n",
    "    # Remove the 'DescribeResult(' and trailing ')' parts, then split by commas\n",
    "    cleaned_str = describe_str.replace('DescribeResult(', '').replace(')', '').replace('(', '').replace(')', '').replace(' ','')\n",
    "    parts = cleaned_str.split(',')\n",
    "    min_val = float(parts[1].split('=')[1].strip())\n",
    "    max_val = float(parts[2])\n",
    "    mean_val = float(parts[3].split('=')[1].strip())\n",
    "    variance_val = float(parts[4].split('=')[1].strip())\n",
    "    return pd.Series({'Min': min_val, 'Max': max_val, 'Mean': mean_val, 'Variance': variance_val})\n",
    "\n"
   ],
   "id": "869e64a036368209",
   "outputs": [],
   "execution_count": 38
  },
  {
   "metadata": {
    "ExecuteTime": {
     "end_time": "2024-08-28T15:52:04.948021Z",
     "start_time": "2024-08-28T15:52:04.915919Z"
    }
   },
   "cell_type": "code",
   "source": [
    "result_file_directory = \"../results/experiment3 20240827-1605.csv\"\n",
    "df = pd.read_csv(result_file_directory)\n",
    "unique_data = df['Data'].unique()\n",
    "\n",
    "for data_value in unique_data:\n",
    "    filtered_df = df[df['Data'] == data_value][[\"Method\",\"Measure\",\"Value\"]]\n",
    "    table_1_filtered = filtered_df[filtered_df['Measure'].isin(['ambiguity', 'discrepancy'])].pivot(index='Method', columns='Measure', values='Value')\n",
    "    display(HTML(f\"<h5>Table for {data_value} Ambiguity and Discrepancy</h5>\"))\n",
    "    display(HTML(f\"{table_1_filtered.to_html()}\"))\n",
    "    display(HTML(f\"<h5>Table for {data_value} Variance in Predictions</h5>\"))\n",
    "    table_2 = filtered_df[filtered_df['Measure'] == 'variance in predictions']['Value'].apply(parse_describe_result)\n",
    "    table_2.index = filtered_df[filtered_df['Measure'] == 'variance in predictions']['Method']\n",
    "    display(HTML(f\"{table_2.to_html()}\"))\n",
    "    display(HTML(f\"<h5>Table for {data_value} Disagreements</h5>\"))\n",
    "    table_3 = filtered_df[filtered_df['Measure'] == 'disagreement']['Value'].apply(parse_describe_result)\n",
    "    table_3.index = filtered_df[filtered_df['Measure'] == 'disagreement']['Method']\n",
    "    display(HTML(f\"{table_3.to_html()}\"))\n"
   ],
   "id": "e2a2747fe9426faf",
   "outputs": [
    {
     "data": {
      "text/plain": [
       "<IPython.core.display.HTML object>"
      ],
      "text/html": [
       "<h5>Table for Community_Data Ambiguity and Discrepancy</h5>"
      ]
     },
     "metadata": {},
     "output_type": "display_data"
    },
    {
     "data": {
      "text/plain": [
       "<IPython.core.display.HTML object>"
      ],
      "text/html": [
       "<table border=\"1\" class=\"dataframe\">\n",
       "  <thead>\n",
       "    <tr style=\"text-align: right;\">\n",
       "      <th>Measure</th>\n",
       "      <th>ambiguity</th>\n",
       "      <th>discrepancy</th>\n",
       "    </tr>\n",
       "    <tr>\n",
       "      <th>Method</th>\n",
       "      <th></th>\n",
       "      <th></th>\n",
       "    </tr>\n",
       "  </thead>\n",
       "  <tbody>\n",
       "    <tr>\n",
       "      <th>M</th>\n",
       "      <td>0.21</td>\n",
       "      <td>0.136</td>\n",
       "    </tr>\n",
       "    <tr>\n",
       "      <th>a</th>\n",
       "      <td>0.23</td>\n",
       "      <td>0.136</td>\n",
       "    </tr>\n",
       "    <tr>\n",
       "      <th>b</th>\n",
       "      <td>0.197</td>\n",
       "      <td>0.114</td>\n",
       "    </tr>\n",
       "    <tr>\n",
       "      <th>c</th>\n",
       "      <td>0.185</td>\n",
       "      <td>0.117</td>\n",
       "    </tr>\n",
       "    <tr>\n",
       "      <th>d</th>\n",
       "      <td>0.145</td>\n",
       "      <td>0.097</td>\n",
       "    </tr>\n",
       "  </tbody>\n",
       "</table>"
      ]
     },
     "metadata": {},
     "output_type": "display_data"
    },
    {
     "data": {
      "text/plain": [
       "<IPython.core.display.HTML object>"
      ],
      "text/html": [
       "<h5>Table for Community_Data Variance in Predictions</h5>"
      ]
     },
     "metadata": {},
     "output_type": "display_data"
    },
    {
     "data": {
      "text/plain": [
       "<IPython.core.display.HTML object>"
      ],
      "text/html": [
       "<table border=\"1\" class=\"dataframe\">\n",
       "  <thead>\n",
       "    <tr style=\"text-align: right;\">\n",
       "      <th></th>\n",
       "      <th>Min</th>\n",
       "      <th>Max</th>\n",
       "      <th>Mean</th>\n",
       "      <th>Variance</th>\n",
       "    </tr>\n",
       "    <tr>\n",
       "      <th>Method</th>\n",
       "      <th></th>\n",
       "      <th></th>\n",
       "      <th></th>\n",
       "      <th></th>\n",
       "    </tr>\n",
       "  </thead>\n",
       "  <tbody>\n",
       "    <tr>\n",
       "      <th>M</th>\n",
       "      <td>0.000407</td>\n",
       "      <td>0.047625</td>\n",
       "      <td>0.005499</td>\n",
       "      <td>0.000052</td>\n",
       "    </tr>\n",
       "    <tr>\n",
       "      <th>a</th>\n",
       "      <td>0.000374</td>\n",
       "      <td>0.023252</td>\n",
       "      <td>0.003747</td>\n",
       "      <td>0.000011</td>\n",
       "    </tr>\n",
       "    <tr>\n",
       "      <th>b</th>\n",
       "      <td>0.000020</td>\n",
       "      <td>0.022602</td>\n",
       "      <td>0.002709</td>\n",
       "      <td>0.000010</td>\n",
       "    </tr>\n",
       "    <tr>\n",
       "      <th>c</th>\n",
       "      <td>0.000417</td>\n",
       "      <td>0.035491</td>\n",
       "      <td>0.003958</td>\n",
       "      <td>0.000017</td>\n",
       "    </tr>\n",
       "    <tr>\n",
       "      <th>d</th>\n",
       "      <td>0.000085</td>\n",
       "      <td>0.031793</td>\n",
       "      <td>0.003529</td>\n",
       "      <td>0.000012</td>\n",
       "    </tr>\n",
       "  </tbody>\n",
       "</table>"
      ]
     },
     "metadata": {},
     "output_type": "display_data"
    },
    {
     "data": {
      "text/plain": [
       "<IPython.core.display.HTML object>"
      ],
      "text/html": [
       "<h5>Table for Community_Data Disagreements</h5>"
      ]
     },
     "metadata": {},
     "output_type": "display_data"
    },
    {
     "data": {
      "text/plain": [
       "<IPython.core.display.HTML object>"
      ],
      "text/html": [
       "<table border=\"1\" class=\"dataframe\">\n",
       "  <thead>\n",
       "    <tr style=\"text-align: right;\">\n",
       "      <th></th>\n",
       "      <th>Min</th>\n",
       "      <th>Max</th>\n",
       "      <th>Mean</th>\n",
       "      <th>Variance</th>\n",
       "    </tr>\n",
       "    <tr>\n",
       "      <th>Method</th>\n",
       "      <th></th>\n",
       "      <th></th>\n",
       "      <th></th>\n",
       "      <th></th>\n",
       "    </tr>\n",
       "  </thead>\n",
       "  <tbody>\n",
       "    <tr>\n",
       "      <th>M</th>\n",
       "      <td>0.0</td>\n",
       "      <td>0.090226</td>\n",
       "      <td>0.031146</td>\n",
       "      <td>0.001018</td>\n",
       "    </tr>\n",
       "    <tr>\n",
       "      <th>a</th>\n",
       "      <td>0.0</td>\n",
       "      <td>0.091479</td>\n",
       "      <td>0.017809</td>\n",
       "      <td>0.000373</td>\n",
       "    </tr>\n",
       "    <tr>\n",
       "      <th>b</th>\n",
       "      <td>0.0</td>\n",
       "      <td>0.091479</td>\n",
       "      <td>0.014160</td>\n",
       "      <td>0.000306</td>\n",
       "    </tr>\n",
       "    <tr>\n",
       "      <th>c</th>\n",
       "      <td>0.0</td>\n",
       "      <td>0.058897</td>\n",
       "      <td>0.018956</td>\n",
       "      <td>0.000242</td>\n",
       "    </tr>\n",
       "    <tr>\n",
       "      <th>d</th>\n",
       "      <td>0.0</td>\n",
       "      <td>0.037594</td>\n",
       "      <td>0.014536</td>\n",
       "      <td>0.000234</td>\n",
       "    </tr>\n",
       "  </tbody>\n",
       "</table>"
      ]
     },
     "metadata": {},
     "output_type": "display_data"
    },
    {
     "data": {
      "text/plain": [
       "<IPython.core.display.HTML object>"
      ],
      "text/html": [
       "<h5>Table for Compas_Data Ambiguity and Discrepancy</h5>"
      ]
     },
     "metadata": {},
     "output_type": "display_data"
    },
    {
     "data": {
      "text/plain": [
       "<IPython.core.display.HTML object>"
      ],
      "text/html": [
       "<table border=\"1\" class=\"dataframe\">\n",
       "  <thead>\n",
       "    <tr style=\"text-align: right;\">\n",
       "      <th>Measure</th>\n",
       "      <th>ambiguity</th>\n",
       "      <th>discrepancy</th>\n",
       "    </tr>\n",
       "    <tr>\n",
       "      <th>Method</th>\n",
       "      <th></th>\n",
       "      <th></th>\n",
       "    </tr>\n",
       "  </thead>\n",
       "  <tbody>\n",
       "    <tr>\n",
       "      <th>M</th>\n",
       "      <td>0.408</td>\n",
       "      <td>0.309</td>\n",
       "    </tr>\n",
       "    <tr>\n",
       "      <th>a</th>\n",
       "      <td>0.368</td>\n",
       "      <td>0.225</td>\n",
       "    </tr>\n",
       "    <tr>\n",
       "      <th>b</th>\n",
       "      <td>0.287</td>\n",
       "      <td>0.189</td>\n",
       "    </tr>\n",
       "    <tr>\n",
       "      <th>c</th>\n",
       "      <td>0.264</td>\n",
       "      <td>0.169</td>\n",
       "    </tr>\n",
       "    <tr>\n",
       "      <th>d</th>\n",
       "      <td>0.154</td>\n",
       "      <td>0.134</td>\n",
       "    </tr>\n",
       "  </tbody>\n",
       "</table>"
      ]
     },
     "metadata": {},
     "output_type": "display_data"
    },
    {
     "data": {
      "text/plain": [
       "<IPython.core.display.HTML object>"
      ],
      "text/html": [
       "<h5>Table for Compas_Data Variance in Predictions</h5>"
      ]
     },
     "metadata": {},
     "output_type": "display_data"
    },
    {
     "data": {
      "text/plain": [
       "<IPython.core.display.HTML object>"
      ],
      "text/html": [
       "<table border=\"1\" class=\"dataframe\">\n",
       "  <thead>\n",
       "    <tr style=\"text-align: right;\">\n",
       "      <th></th>\n",
       "      <th>Min</th>\n",
       "      <th>Max</th>\n",
       "      <th>Mean</th>\n",
       "      <th>Variance</th>\n",
       "    </tr>\n",
       "    <tr>\n",
       "      <th>Method</th>\n",
       "      <th></th>\n",
       "      <th></th>\n",
       "      <th></th>\n",
       "      <th></th>\n",
       "    </tr>\n",
       "  </thead>\n",
       "  <tbody>\n",
       "    <tr>\n",
       "      <th>M</th>\n",
       "      <td>0.000826</td>\n",
       "      <td>0.157337</td>\n",
       "      <td>0.019928</td>\n",
       "      <td>0.000443</td>\n",
       "    </tr>\n",
       "    <tr>\n",
       "      <th>a</th>\n",
       "      <td>0.000445</td>\n",
       "      <td>0.078187</td>\n",
       "      <td>0.009176</td>\n",
       "      <td>0.000094</td>\n",
       "    </tr>\n",
       "    <tr>\n",
       "      <th>b</th>\n",
       "      <td>0.000078</td>\n",
       "      <td>0.077059</td>\n",
       "      <td>0.007284</td>\n",
       "      <td>0.000094</td>\n",
       "    </tr>\n",
       "    <tr>\n",
       "      <th>c</th>\n",
       "      <td>0.000331</td>\n",
       "      <td>0.105521</td>\n",
       "      <td>0.009749</td>\n",
       "      <td>0.000121</td>\n",
       "    </tr>\n",
       "    <tr>\n",
       "      <th>d</th>\n",
       "      <td>0.000009</td>\n",
       "      <td>0.104731</td>\n",
       "      <td>0.006354</td>\n",
       "      <td>0.000179</td>\n",
       "    </tr>\n",
       "  </tbody>\n",
       "</table>"
      ]
     },
     "metadata": {},
     "output_type": "display_data"
    },
    {
     "data": {
      "text/plain": [
       "<IPython.core.display.HTML object>"
      ],
      "text/html": [
       "<h5>Table for Compas_Data Disagreements</h5>"
      ]
     },
     "metadata": {},
     "output_type": "display_data"
    },
    {
     "data": {
      "text/plain": [
       "<IPython.core.display.HTML object>"
      ],
      "text/html": [
       "<table border=\"1\" class=\"dataframe\">\n",
       "  <thead>\n",
       "    <tr style=\"text-align: right;\">\n",
       "      <th></th>\n",
       "      <th>Min</th>\n",
       "      <th>Max</th>\n",
       "      <th>Mean</th>\n",
       "      <th>Variance</th>\n",
       "    </tr>\n",
       "    <tr>\n",
       "      <th>Method</th>\n",
       "      <th></th>\n",
       "      <th></th>\n",
       "      <th></th>\n",
       "      <th></th>\n",
       "    </tr>\n",
       "  </thead>\n",
       "  <tbody>\n",
       "    <tr>\n",
       "      <th>M</th>\n",
       "      <td>0.0</td>\n",
       "      <td>0.352227</td>\n",
       "      <td>0.130870</td>\n",
       "      <td>0.009763</td>\n",
       "    </tr>\n",
       "    <tr>\n",
       "      <th>a</th>\n",
       "      <td>0.0</td>\n",
       "      <td>0.268016</td>\n",
       "      <td>0.063720</td>\n",
       "      <td>0.002095</td>\n",
       "    </tr>\n",
       "    <tr>\n",
       "      <th>b</th>\n",
       "      <td>0.0</td>\n",
       "      <td>0.183806</td>\n",
       "      <td>0.051690</td>\n",
       "      <td>0.001332</td>\n",
       "    </tr>\n",
       "    <tr>\n",
       "      <th>c</th>\n",
       "      <td>0.0</td>\n",
       "      <td>0.159109</td>\n",
       "      <td>0.065171</td>\n",
       "      <td>0.002547</td>\n",
       "    </tr>\n",
       "    <tr>\n",
       "      <th>d</th>\n",
       "      <td>0.0</td>\n",
       "      <td>0.094332</td>\n",
       "      <td>0.035975</td>\n",
       "      <td>0.001304</td>\n",
       "    </tr>\n",
       "  </tbody>\n",
       "</table>"
      ]
     },
     "metadata": {},
     "output_type": "display_data"
    },
    {
     "data": {
      "text/plain": [
       "<IPython.core.display.HTML object>"
      ],
      "text/html": [
       "<h5>Table for Adult_Data Ambiguity and Discrepancy</h5>"
      ]
     },
     "metadata": {},
     "output_type": "display_data"
    },
    {
     "data": {
      "text/plain": [
       "<IPython.core.display.HTML object>"
      ],
      "text/html": [
       "<table border=\"1\" class=\"dataframe\">\n",
       "  <thead>\n",
       "    <tr style=\"text-align: right;\">\n",
       "      <th>Measure</th>\n",
       "      <th>ambiguity</th>\n",
       "      <th>discrepancy</th>\n",
       "    </tr>\n",
       "    <tr>\n",
       "      <th>Method</th>\n",
       "      <th></th>\n",
       "      <th></th>\n",
       "    </tr>\n",
       "  </thead>\n",
       "  <tbody>\n",
       "    <tr>\n",
       "      <th>M</th>\n",
       "      <td>0.467</td>\n",
       "      <td>0.365</td>\n",
       "    </tr>\n",
       "    <tr>\n",
       "      <th>a</th>\n",
       "      <td>0.335</td>\n",
       "      <td>0.185</td>\n",
       "    </tr>\n",
       "    <tr>\n",
       "      <th>b</th>\n",
       "      <td>0.275</td>\n",
       "      <td>0.151</td>\n",
       "    </tr>\n",
       "    <tr>\n",
       "      <th>c</th>\n",
       "      <td>0.199</td>\n",
       "      <td>0.146</td>\n",
       "    </tr>\n",
       "    <tr>\n",
       "      <th>d</th>\n",
       "      <td>0.194</td>\n",
       "      <td>0.127</td>\n",
       "    </tr>\n",
       "  </tbody>\n",
       "</table>"
      ]
     },
     "metadata": {},
     "output_type": "display_data"
    },
    {
     "data": {
      "text/plain": [
       "<IPython.core.display.HTML object>"
      ],
      "text/html": [
       "<h5>Table for Adult_Data Variance in Predictions</h5>"
      ]
     },
     "metadata": {},
     "output_type": "display_data"
    },
    {
     "data": {
      "text/plain": [
       "<IPython.core.display.HTML object>"
      ],
      "text/html": [
       "<table border=\"1\" class=\"dataframe\">\n",
       "  <thead>\n",
       "    <tr style=\"text-align: right;\">\n",
       "      <th></th>\n",
       "      <th>Min</th>\n",
       "      <th>Max</th>\n",
       "      <th>Mean</th>\n",
       "      <th>Variance</th>\n",
       "    </tr>\n",
       "    <tr>\n",
       "      <th>Method</th>\n",
       "      <th></th>\n",
       "      <th></th>\n",
       "      <th></th>\n",
       "      <th></th>\n",
       "    </tr>\n",
       "  </thead>\n",
       "  <tbody>\n",
       "    <tr>\n",
       "      <th>M</th>\n",
       "      <td>0.002104</td>\n",
       "      <td>0.163421</td>\n",
       "      <td>0.025126</td>\n",
       "      <td>0.000207</td>\n",
       "    </tr>\n",
       "    <tr>\n",
       "      <th>a</th>\n",
       "      <td>0.000013</td>\n",
       "      <td>0.105181</td>\n",
       "      <td>0.009020</td>\n",
       "      <td>0.000102</td>\n",
       "    </tr>\n",
       "    <tr>\n",
       "      <th>b</th>\n",
       "      <td>0.000015</td>\n",
       "      <td>0.088697</td>\n",
       "      <td>0.008069</td>\n",
       "      <td>0.000084</td>\n",
       "    </tr>\n",
       "    <tr>\n",
       "      <th>c</th>\n",
       "      <td>0.000013</td>\n",
       "      <td>0.092786</td>\n",
       "      <td>0.007128</td>\n",
       "      <td>0.000084</td>\n",
       "    </tr>\n",
       "    <tr>\n",
       "      <th>d</th>\n",
       "      <td>0.000015</td>\n",
       "      <td>0.087859</td>\n",
       "      <td>0.007012</td>\n",
       "      <td>0.000095</td>\n",
       "    </tr>\n",
       "  </tbody>\n",
       "</table>"
      ]
     },
     "metadata": {},
     "output_type": "display_data"
    },
    {
     "data": {
      "text/plain": [
       "<IPython.core.display.HTML object>"
      ],
      "text/html": [
       "<h5>Table for Adult_Data Disagreements</h5>"
      ]
     },
     "metadata": {},
     "output_type": "display_data"
    },
    {
     "data": {
      "text/plain": [
       "<IPython.core.display.HTML object>"
      ],
      "text/html": [
       "<table border=\"1\" class=\"dataframe\">\n",
       "  <thead>\n",
       "    <tr style=\"text-align: right;\">\n",
       "      <th></th>\n",
       "      <th>Min</th>\n",
       "      <th>Max</th>\n",
       "      <th>Mean</th>\n",
       "      <th>Variance</th>\n",
       "    </tr>\n",
       "    <tr>\n",
       "      <th>Method</th>\n",
       "      <th></th>\n",
       "      <th></th>\n",
       "      <th></th>\n",
       "      <th></th>\n",
       "    </tr>\n",
       "  </thead>\n",
       "  <tbody>\n",
       "    <tr>\n",
       "      <th>M</th>\n",
       "      <td>0.0</td>\n",
       "      <td>0.404453</td>\n",
       "      <td>0.149117</td>\n",
       "      <td>0.016378</td>\n",
       "    </tr>\n",
       "    <tr>\n",
       "      <th>a</th>\n",
       "      <td>0.0</td>\n",
       "      <td>0.173512</td>\n",
       "      <td>0.059188</td>\n",
       "      <td>0.001732</td>\n",
       "    </tr>\n",
       "    <tr>\n",
       "      <th>b</th>\n",
       "      <td>0.0</td>\n",
       "      <td>0.173512</td>\n",
       "      <td>0.054427</td>\n",
       "      <td>0.001690</td>\n",
       "    </tr>\n",
       "    <tr>\n",
       "      <th>c</th>\n",
       "      <td>0.0</td>\n",
       "      <td>0.132975</td>\n",
       "      <td>0.045641</td>\n",
       "      <td>0.001928</td>\n",
       "    </tr>\n",
       "    <tr>\n",
       "      <th>d</th>\n",
       "      <td>0.0</td>\n",
       "      <td>0.107793</td>\n",
       "      <td>0.045580</td>\n",
       "      <td>0.001507</td>\n",
       "    </tr>\n",
       "  </tbody>\n",
       "</table>"
      ]
     },
     "metadata": {},
     "output_type": "display_data"
    }
   ],
   "execution_count": 39
  },
  {
   "metadata": {
    "ExecuteTime": {
     "end_time": "2024-10-10T20:40:21.289047Z",
     "start_time": "2024-10-10T20:40:21.239484Z"
    }
   },
   "cell_type": "code",
   "source": [
    "df = pd.read_csv('../results/experiment3 final.csv')\n",
    "df['Data'] = df['Data'].str.replace('_Data$', '', regex=True)\n",
    "df['Data'] = df['Data'].str.replace('_', ' ', regex=True)\n",
    "df['Value'] = pd.to_numeric(df['Value'], errors='coerce')"
   ],
   "id": "ed8c91e1dd5f3845",
   "outputs": [],
   "execution_count": 8
  },
  {
   "metadata": {
    "ExecuteTime": {
     "end_time": "2024-10-10T21:16:13.983523Z",
     "start_time": "2024-10-10T21:16:13.945480Z"
    }
   },
   "cell_type": "code",
   "source": [
    "import pandas as pd\n",
    "import numpy as np\n",
    "from scipy import stats\n",
    "import itertools\n",
    "\n",
    "# Assuming df is your DataFrame with columns 'method' and 'MSE'\n",
    "methods = df['Method'].unique()\n",
    "\n",
    "# Initialize dictionary to store results\n",
    "confidence_level = 0.95\n",
    "subset_data = df[(df['Measure'] == 'ambiguity')]\n",
    "# Initialize a list to store the results for table creation\n",
    "pairwise_results = []\n",
    "for method in methods:\n",
    "    if method != 'M':\n",
    "        # Filter MSE values for \"sequential reconcile\" and the current method\n",
    "        mse_sequential = subset_data[subset_data['Method'] == 'M']['Value']\n",
    "        mse_method = subset_data[subset_data['Method'] == method]['Value']\n",
    "        \n",
    "        # Perform a two-sided t-test (since we are computing confidence intervals)\n",
    "        t_stat, p_value = stats.ttest_ind(mse_sequential, mse_method)\n",
    "        \n",
    "        # Calculate the difference in means\n",
    "        mean_diff = np.mean(mse_sequential) - np.mean(mse_method)\n",
    "        \n",
    "        # Calculate the standard error of the difference in means\n",
    "        se_diff = np.sqrt(np.var(mse_sequential, ddof=1) / len(mse_sequential) + \n",
    "                          np.var(mse_method, ddof=1) / len(mse_method))\n",
    "        \n",
    "        # Get the degrees of freedom\n",
    "        dof = len(mse_sequential) + len(mse_method) - 2\n",
    "        \n",
    "        # Find the critical t-value for the confidence level\n",
    "        t_critical = stats.t.ppf((1 + confidence_level) / 2, df=dof)\n",
    "        \n",
    "        # Calculate the margin of error\n",
    "        margin_of_error = t_critical * se_diff\n",
    "        \n",
    "        # Calculate the confidence interval\n",
    "        ci_lower = mean_diff - margin_of_error\n",
    "        ci_upper = mean_diff + margin_of_error\n",
    "        \n",
    "        # Store the results in a dictionary for table creation\n",
    "        pairwise_results.append({\n",
    "            'Method Compared': method,\n",
    "            'Mean Difference': mean_diff,\n",
    "            'T-statistic': t_stat,\n",
    "            'P-value': p_value,\n",
    "            'CI Lower': ci_lower,\n",
    "            'CI Upper': ci_upper\n",
    "        })\n",
    "\n",
    "# Convert results to a pandas DataFrame for table format\n",
    "results_df = pd.DataFrame(pairwise_results)\n",
    "\n",
    "# Display the table in Jupyter\n",
    "display(results_df)"
   ],
   "id": "10104ec6c3e0d0f5",
   "outputs": [
    {
     "data": {
      "text/plain": [
       "  Method Compared  T-statistic        P-value  Mean Difference  CI Lower  \\\n",
       "0               a     8.432584   8.310740e-17         0.045571  0.034970   \n",
       "1               b    20.452981   1.514357e-81         0.105000  0.094929   \n",
       "2               c    28.975258  5.724010e-145         0.143067  0.133381   \n",
       "3               d    41.777737  3.060368e-248         0.202410  0.192906   \n",
       "\n",
       "   CI Upper  \n",
       "0  0.056173  \n",
       "1  0.115071  \n",
       "2  0.152753  \n",
       "3  0.211914  "
      ],
      "text/html": [
       "<div>\n",
       "<style scoped>\n",
       "    .dataframe tbody tr th:only-of-type {\n",
       "        vertical-align: middle;\n",
       "    }\n",
       "\n",
       "    .dataframe tbody tr th {\n",
       "        vertical-align: top;\n",
       "    }\n",
       "\n",
       "    .dataframe thead th {\n",
       "        text-align: right;\n",
       "    }\n",
       "</style>\n",
       "<table border=\"1\" class=\"dataframe\">\n",
       "  <thead>\n",
       "    <tr style=\"text-align: right;\">\n",
       "      <th></th>\n",
       "      <th>Method Compared</th>\n",
       "      <th>T-statistic</th>\n",
       "      <th>P-value</th>\n",
       "      <th>Mean Difference</th>\n",
       "      <th>CI Lower</th>\n",
       "      <th>CI Upper</th>\n",
       "    </tr>\n",
       "  </thead>\n",
       "  <tbody>\n",
       "    <tr>\n",
       "      <th>0</th>\n",
       "      <td>a</td>\n",
       "      <td>8.432584</td>\n",
       "      <td>8.310740e-17</td>\n",
       "      <td>0.045571</td>\n",
       "      <td>0.034970</td>\n",
       "      <td>0.056173</td>\n",
       "    </tr>\n",
       "    <tr>\n",
       "      <th>1</th>\n",
       "      <td>b</td>\n",
       "      <td>20.452981</td>\n",
       "      <td>1.514357e-81</td>\n",
       "      <td>0.105000</td>\n",
       "      <td>0.094929</td>\n",
       "      <td>0.115071</td>\n",
       "    </tr>\n",
       "    <tr>\n",
       "      <th>2</th>\n",
       "      <td>c</td>\n",
       "      <td>28.975258</td>\n",
       "      <td>5.724010e-145</td>\n",
       "      <td>0.143067</td>\n",
       "      <td>0.133381</td>\n",
       "      <td>0.152753</td>\n",
       "    </tr>\n",
       "    <tr>\n",
       "      <th>3</th>\n",
       "      <td>d</td>\n",
       "      <td>41.777737</td>\n",
       "      <td>3.060368e-248</td>\n",
       "      <td>0.202410</td>\n",
       "      <td>0.192906</td>\n",
       "      <td>0.211914</td>\n",
       "    </tr>\n",
       "  </tbody>\n",
       "</table>\n",
       "</div>"
      ]
     },
     "metadata": {},
     "output_type": "display_data"
    }
   ],
   "execution_count": 14
  },
  {
   "metadata": {
    "ExecuteTime": {
     "end_time": "2024-10-10T20:50:58.361738Z",
     "start_time": "2024-10-10T20:50:57.784333Z"
    }
   },
   "cell_type": "code",
   "source": [
    "subset_data = df[(df['Measure'] == 'ambiguity')]\n",
    "# print(subset_data.groupby('Method').mean(['Value']))\n",
    "from statsmodels.stats.multicomp import pairwise_tukeyhsd\n",
    "\n",
    "tukey = pairwise_tukeyhsd(endog=subset_data['Value'], groups=subset_data['Method'], alpha=0.05)\n",
    "\n",
    "print(tukey)"
   ],
   "id": "17b462bf8b5b39bb",
   "outputs": [
    {
     "name": "stdout",
     "output_type": "stream",
     "text": [
      "Multiple Comparison of Means - Tukey HSD, FWER=0.05\n",
      "===================================================\n",
      "group1 group2 meandiff p-adj  lower   upper  reject\n",
      "---------------------------------------------------\n",
      "     M      a  -0.0456   0.0 -0.0571  -0.034   True\n",
      "     M      b   -0.105   0.0 -0.1165 -0.0935   True\n",
      "     M      c  -0.1431   0.0 -0.1546 -0.1315   True\n",
      "     M      d  -0.2024   0.0 -0.2139 -0.1909   True\n",
      "     a      b  -0.0594   0.0  -0.071 -0.0479   True\n",
      "     a      c  -0.0975   0.0  -0.109  -0.086   True\n",
      "     a      d  -0.1568   0.0 -0.1684 -0.1453   True\n",
      "     b      c  -0.0381   0.0 -0.0496 -0.0265   True\n",
      "     b      d  -0.0974   0.0 -0.1089 -0.0859   True\n",
      "     c      d  -0.0593   0.0 -0.0709 -0.0478   True\n",
      "---------------------------------------------------\n"
     ]
    }
   ],
   "execution_count": 11
  },
  {
   "metadata": {
    "ExecuteTime": {
     "end_time": "2024-10-10T01:07:24.596564Z",
     "start_time": "2024-10-10T01:07:23.975932Z"
    }
   },
   "cell_type": "code",
   "source": [
    "subset_data = df[df['Measure'] == 'discrepancy']\n",
    "subset_data['Value'] = pd.to_numeric(subset_data['Value'], errors='coerce')\n",
    "from statsmodels.stats.multicomp import pairwise_tukeyhsd\n",
    "\n",
    "# Perform Tukey's HSD test for pairwise comparisons between all methods\n",
    "tukey = pairwise_tukeyhsd(endog=subset_data['Value'], groups=subset_data['Method'], alpha=0.05)\n",
    "\n",
    "# Print Tukey HSD results\n",
    "print(tukey)"
   ],
   "id": "7c60089de82cef99",
   "outputs": [
    {
     "name": "stderr",
     "output_type": "stream",
     "text": [
      "/var/folders/v_/d3hz__gx7y9ffy_rls7zbjpm0000gn/T/ipykernel_34279/231113942.py:2: SettingWithCopyWarning: \n",
      "A value is trying to be set on a copy of a slice from a DataFrame.\n",
      "Try using .loc[row_indexer,col_indexer] = value instead\n",
      "\n",
      "See the caveats in the documentation: https://pandas.pydata.org/pandas-docs/stable/user_guide/indexing.html#returning-a-view-versus-a-copy\n",
      "  subset_data['Value'] = pd.to_numeric(subset_data['Value'], errors='coerce')\n"
     ]
    },
    {
     "name": "stdout",
     "output_type": "stream",
     "text": [
      "Multiple Comparison of Means - Tukey HSD, FWER=0.05\n",
      "===================================================\n",
      "group1 group2 meandiff p-adj  lower   upper  reject\n",
      "---------------------------------------------------\n",
      "     M      a  -0.0806   0.0 -0.0883 -0.0729   True\n",
      "     M      b  -0.1059   0.0 -0.1136 -0.0982   True\n",
      "     M      c  -0.1205   0.0 -0.1282 -0.1128   True\n",
      "     M      d  -0.1486   0.0 -0.1563 -0.1409   True\n",
      "     a      b  -0.0253   0.0  -0.033 -0.0176   True\n",
      "     a      c  -0.0399   0.0 -0.0476 -0.0322   True\n",
      "     a      d   -0.068   0.0 -0.0757 -0.0603   True\n",
      "     b      c  -0.0147   0.0 -0.0224  -0.007   True\n",
      "     b      d  -0.0427   0.0 -0.0504  -0.035   True\n",
      "     c      d  -0.0281   0.0 -0.0358 -0.0204   True\n",
      "---------------------------------------------------\n"
     ]
    }
   ],
   "execution_count": 5
  },
  {
   "metadata": {},
   "cell_type": "code",
   "outputs": [],
   "execution_count": null,
   "source": "",
   "id": "84c78136fd54897"
  }
 ],
 "metadata": {
  "kernelspec": {
   "display_name": "Python 3",
   "language": "python",
   "name": "python3"
  },
  "language_info": {
   "codemirror_mode": {
    "name": "ipython",
    "version": 2
   },
   "file_extension": ".py",
   "mimetype": "text/x-python",
   "name": "python",
   "nbconvert_exporter": "python",
   "pygments_lexer": "ipython2",
   "version": "2.7.6"
  }
 },
 "nbformat": 4,
 "nbformat_minor": 5
}
